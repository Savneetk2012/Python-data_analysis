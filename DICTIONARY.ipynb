{
 "cells": [
  {
   "cell_type": "markdown",
   "id": "0f183244",
   "metadata": {},
   "source": [
    "# Dictionary"
   ]
  },
  {
   "cell_type": "code",
   "execution_count": 1,
   "id": "a4c82a6c",
   "metadata": {},
   "outputs": [
    {
     "name": "stdout",
     "output_type": "stream",
     "text": [
      "<class 'dict'>\n",
      "{'Name': 'Roopneet', 'Qualification': '10th', 'age': 15}\n",
      "Roopneet\n",
      "15\n",
      "{'Name': 'Roopneet', 'Qualification': '10th', 'age': 15, 'Phone number': '9876543213'}\n",
      "{'Name': 'Roopneet', 'Qualification': '10th', 'age': 15, 'Phone number': '1234567899'}\n"
     ]
    },
    {
     "ename": "NameError",
     "evalue": "name 'dic' is not defined",
     "output_type": "error",
     "traceback": [
      "\u001b[1;31m---------------------------------------------------------------------------\u001b[0m",
      "\u001b[1;31mNameError\u001b[0m                                 Traceback (most recent call last)",
      "\u001b[1;32m<ipython-input-1-cc2d9c8105cb>\u001b[0m in \u001b[0;36m<module>\u001b[1;34m\u001b[0m\n\u001b[0;32m     20\u001b[0m \u001b[0mprint\u001b[0m\u001b[1;33m(\u001b[0m\u001b[0mdic\u001b[0m\u001b[1;33m)\u001b[0m\u001b[1;33m\u001b[0m\u001b[1;33m\u001b[0m\u001b[0m\n\u001b[0;32m     21\u001b[0m \u001b[1;32mdel\u001b[0m \u001b[0mdic\u001b[0m                    \u001b[1;31m#Deleting dictionary\u001b[0m\u001b[1;33m\u001b[0m\u001b[1;33m\u001b[0m\u001b[0m\n\u001b[1;32m---> 22\u001b[1;33m \u001b[0mprint\u001b[0m\u001b[1;33m(\u001b[0m\u001b[0mdic\u001b[0m\u001b[1;33m)\u001b[0m\u001b[1;33m\u001b[0m\u001b[1;33m\u001b[0m\u001b[0m\n\u001b[0m",
      "\u001b[1;31mNameError\u001b[0m: name 'dic' is not defined"
     ]
    }
   ],
   "source": [
    "# DICTIONARY\n",
    "# u can use any name in the place of \"dic\"\n",
    "dic={}              #Initializing dictionary\n",
    "print(type(dic))          \n",
    "\n",
    "dic={                        #creating dictionary\n",
    "    'Name':'Roopneet',\n",
    "    'Qualification':'10th',\n",
    "    'age':15,\n",
    "}\n",
    "\n",
    "print(dic)                 #Accessing elements from the dictionary\n",
    "print(dic['Name'])\n",
    "print(dic.get('age'))\n",
    "\n",
    "dic['Phone number']='9876543213'         #Inserting values\n",
    "print(dic)\n",
    "\n",
    "dic['Phone number']='1234567899'          #Updating values\n",
    "print(dic)\n",
    "del dic                    #Deleting dictionary\n",
    "print(dic)"
   ]
  },
  {
   "cell_type": "code",
   "execution_count": 10,
   "id": "372f43fe",
   "metadata": {},
   "outputs": [
    {
     "name": "stdout",
     "output_type": "stream",
     "text": [
      "<class 'list'>\n",
      "[['Name', 'Roopneet'], ['Qualification', '10th'], ['Age', 15]]\n",
      "Roopneet\n",
      "15\n",
      "[['Name', 'Roopneet'], ['Qualification', '10th'], ['Age', 15], ['Phone number', '9876543211']]\n",
      "[['Name', 'Roopneet'], ['Qualification', '10th'], ['Age', 15], ['Phone number', '9876543211']]\n",
      "[['Name', 'Roopneet'], ['Qualification', '10th'], ['Age', 15], ['Phone number', '1234567899']]\n"
     ]
    }
   ],
   "source": [
    "data= [['Name','Roopneet'],['Qualification','10th'],['Age',15]]\n",
    "print(type(data))\n",
    "print(data)\n",
    "print(data[0][1])\n",
    "print(data[2][1])\n",
    "\n",
    "add=[['Phone number','9876543211']]\n",
    "data_new= data+add\n",
    "print(data_new)\n",
    "\n",
    "data.append(['Phone number','9876543211'])\n",
    "print(data)\n",
    "\n",
    "data_new[3][1]='1234567899'\n",
    "print(data_new)\n",
    "\n",
    "del data"
   ]
  },
  {
   "cell_type": "code",
   "execution_count": 3,
   "id": "dec6b1ea",
   "metadata": {},
   "outputs": [
    {
     "name": "stdout",
     "output_type": "stream",
     "text": [
      "[[  1   2   3   4]\n",
      " [  5   6   7   8]\n",
      " [  9 150  11  12]\n",
      " [ 13  14  15  16]]\n"
     ]
    }
   ],
   "source": [
    "#Updating numpy arrays\n",
    "import numpy as np\n",
    "A = np.array([[1,2,3,4],[5,6,7,8],[9,10,11,12],[13,14,15,16]])\n",
    "A[2,1]=150\n",
    "print(A)"
   ]
  },
  {
   "cell_type": "code",
   "execution_count": 4,
   "id": "09cfd9d1",
   "metadata": {},
   "outputs": [
    {
     "name": "stdout",
     "output_type": "stream",
     "text": [
      "<class 'numpy.ndarray'>\n",
      "[['Name' 'Roopneet']\n",
      " ['Qualification' '10th']\n",
      " ['Age' '15']\n",
      " ['Phone number' '9876543211']]\n",
      "Roopneet\n",
      "15\n",
      "[['Name' 'Roopneet']\n",
      " ['Qualification' '10th']\n",
      " ['Age' '15']\n",
      " ['Phone number' '1234567899']]\n",
      "['Name' 'Roopneet' 'Qualification' '10th' 'Age' '15' 'Phone number'\n",
      " '1234567899' 'Phone number' '9876543211']\n"
     ]
    }
   ],
   "source": [
    "import numpy as np\n",
    "data= np.array([['Name','Roopneet'],['Qualification','10th'],['Age',15],['Phone number','9876543211']])\n",
    "print(type(data))\n",
    "print(data)\n",
    "print(data[0][1])\n",
    "print(data[2][1])\n",
    "\n",
    "data[3,1]=1234567899\n",
    "print(data)\n",
    "# array cant be updated after append function has been used.\n",
    "a=[['Phone number','9876543211']]\n",
    "data= np.append(data,a)\n",
    "print(data)"
   ]
  },
  {
   "cell_type": "code",
   "execution_count": 5,
   "id": "caa91928",
   "metadata": {},
   "outputs": [
    {
     "name": "stdout",
     "output_type": "stream",
     "text": [
      "Enter a number ,that you want to check 24\n",
      "The given number is even \n"
     ]
    }
   ],
   "source": [
    "# Revision of old topic..\n",
    "a=(int(input(\"Enter a number ,that you want to check \")))\n",
    "if a % 2 ==0 :\n",
    "    print(\"The given number is even \")\n",
    "else :\n",
    "    print(\"The given number is odd \")"
   ]
  },
  {
   "cell_type": "code",
   "execution_count": 6,
   "id": "368b6877",
   "metadata": {},
   "outputs": [
    {
     "name": "stdout",
     "output_type": "stream",
     "text": [
      "Enter the year ,that you want to check 2012\n",
      "24 It is a leap year\n"
     ]
    }
   ],
   "source": [
    "y = int(input(\"Enter the year ,that you want to check \"))\n",
    "if (a % 4) ==0 :\n",
    "    print(\"{0} It is a leap year\".format(a))\n",
    "else :\n",
    "    print( \"It is not a leap year \")\n",
    "    # it is not working without using format"
   ]
  },
  {
   "cell_type": "code",
   "execution_count": 7,
   "id": "38fab1e6",
   "metadata": {},
   "outputs": [
    {
     "name": "stdout",
     "output_type": "stream",
     "text": [
      "Enter the year you want to check 2023\n",
      "It is not a leap year\n"
     ]
    }
   ],
   "source": [
    " a= int(input(\"Enter the year you want to check \"))\n",
    "if (a % 4) ==0:\n",
    "      print(\"{0} is a leap year\".format(a))\n",
    "else:\n",
    "     print(\"It is not a leap year\")"
   ]
  },
  {
   "cell_type": "code",
   "execution_count": 8,
   "id": "7e27d3c1",
   "metadata": {},
   "outputs": [
    {
     "name": "stdout",
     "output_type": "stream",
     "text": [
      "Enter a number a 2\n",
      "Enter a number b 4\n",
      "Enter a number c 67\n",
      "c is greatest \n"
     ]
    }
   ],
   "source": [
    "#Write code to find the greatest of three numbers\n",
    "\n",
    "a = int(input(\"Enter a number a \"))\n",
    "b = int(input(\"Enter a number b \"))\n",
    "c = int(input(\"Enter a number c \"))\n",
    "if (a>b) and (a>c):\n",
    "    print(\"a is greatest \")\n",
    "elif (b>c) and (b>a):\n",
    "    print(\"b is greatest \")\n",
    "else  :\n",
    "    print(\"c is greatest \")\n"
   ]
  },
  {
   "cell_type": "code",
   "execution_count": 9,
   "id": "eba30023",
   "metadata": {},
   "outputs": [
    {
     "name": "stdout",
     "output_type": "stream",
     "text": [
      "{'Beseech': 'to ask or enter', 'Crumple': 'to crush', 'Excel': 'to go beyond', 'Frost': 'frozen dew ', 'Gripe': 'to hold fast', 'Horrid': 'dreadful', 'Lavish': 'extravagant', 'Owe': 'to be under obligation', 'Psyche': 'soul,mind', 'Traduce': 'to misrepresent'}\n",
      "{'Beseech': 'to ask or enter', 'Crumple': 'to crush', 'Excel': 'to go beyond', 'Frost': 'frozen dew ', 'Gripe': 'to hold fast', 'Horrid': 'dreadful', 'Lavish': 'extravagant', 'Owe': 'to be under obligation', 'Psyche': 'soul,mind', 'Traduce': 'to misrepresent', 'Rely': 'on to have trust in'}\n",
      "{'Beseech': 'to ask or enter', 'Crumple': 'to crush', 'Excel': 'to go beyond', 'Frost': 'frozen dew ', 'Gripe': 'to hold fast', 'Horrid': 'dreadful', 'Lavish': 'extravagant', 'Owe': 'to be under obligation', 'Psyche': 'soul,mind', 'Traduce': 'to misrepresent', 'Rely': 'to depend on someone or something'}\n",
      "{'Beseech': 'to ask or enter', 'Crumple': 'to crush', 'Excel': 'to go beyond', 'Frost': 'frozen dew ', 'Gripe': 'to hold fast', 'Horrid': 'dreadful', 'Lavish': 'extravagant', 'Owe': 'to be under obligation', 'Psyche': 'soul,mind', 'Traduce': 'to misrepresent'}\n"
     ]
    }
   ],
   "source": [
    "mean={}\n",
    "mean= {\n",
    "    'Beseech':'to ask or enter',\n",
    "    'Crumple':'to crush',\n",
    "    'Excel':'to go beyond',\n",
    "    'Frost':'frozen dew ',\n",
    "    'Gripe':'to hold fast',\n",
    "    'Horrid':'dreadful',\n",
    "    'Lavish':'extravagant',\n",
    "    'Owe':'to be under obligation',\n",
    "    'Psyche':'soul,mind',\n",
    "    'Traduce':'to misrepresent',\n",
    "}\n",
    "print(mean)\n",
    "mean['Rely']='on to have trust in'\n",
    "print(mean)\n",
    "mean['Rely']='to depend on someone or something'\n",
    "print(mean)\n",
    "del(mean['Rely'])\n",
    "print(mean)"
   ]
  },
  {
   "cell_type": "code",
   "execution_count": null,
   "id": "5bd55983",
   "metadata": {},
   "outputs": [],
   "source": [
    "\n"
   ]
  },
  {
   "cell_type": "code",
   "execution_count": null,
   "id": "85ca12dd",
   "metadata": {},
   "outputs": [],
   "source": []
  }
 ],
 "metadata": {
  "kernelspec": {
   "display_name": "Python 3",
   "language": "python",
   "name": "python3"
  },
  "language_info": {
   "codemirror_mode": {
    "name": "ipython",
    "version": 3
   },
   "file_extension": ".py",
   "mimetype": "text/x-python",
   "name": "python",
   "nbconvert_exporter": "python",
   "pygments_lexer": "ipython3",
   "version": "3.8.8"
  }
 },
 "nbformat": 4,
 "nbformat_minor": 5
}
